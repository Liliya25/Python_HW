{
 "cells": [
  {
   "cell_type": "code",
   "execution_count": 1,
   "metadata": {},
   "outputs": [],
   "source": [
    "import numpy as np\n",
    "from scipy.spatial import distance"
   ]
  },
  {
   "cell_type": "code",
   "execution_count": 2,
   "metadata": {},
   "outputs": [
    {
     "name": "stdout",
     "output_type": "stream",
     "text": [
      "[9 8 7 6 5 4 3 2 1 0]\n"
     ]
    }
   ],
   "source": [
    "#1\n",
    "N = 10\n",
    "arr = np.arange(N)[::-1]\n",
    "print(arr)"
   ]
  },
  {
   "cell_type": "code",
   "execution_count": 3,
   "metadata": {},
   "outputs": [
    {
     "name": "stdout",
     "output_type": "stream",
     "text": [
      "Диагональная матрица:\n",
      " [[10  0  0  0  0  0  0  0  0  0  0]\n",
      " [ 0  9  0  0  0  0  0  0  0  0  0]\n",
      " [ 0  0  8  0  0  0  0  0  0  0  0]\n",
      " [ 0  0  0  7  0  0  0  0  0  0  0]\n",
      " [ 0  0  0  0  6  0  0  0  0  0  0]\n",
      " [ 0  0  0  0  0  5  0  0  0  0  0]\n",
      " [ 0  0  0  0  0  0  4  0  0  0  0]\n",
      " [ 0  0  0  0  0  0  0  3  0  0  0]\n",
      " [ 0  0  0  0  0  0  0  0  2  0  0]\n",
      " [ 0  0  0  0  0  0  0  0  0  1  0]\n",
      " [ 0  0  0  0  0  0  0  0  0  0  0]]\n",
      "Сумма диагональных элементов матрицы:\n",
      " 55\n"
     ]
    }
   ],
   "source": [
    "#2\n",
    "n = 10\n",
    "diag_mat = np.diag(np.arange(n, -1, -1), k=0)\n",
    "sum_diag_el = np.diagonal(diag_mat).sum()\n",
    "print(\"Диагональная матрица:\\n\", diag_mat)\n",
    "print(\"Сумма диагональных элементов матрицы:\\n\", sum_diag_el)"
   ]
  },
  {
   "cell_type": "code",
   "execution_count": 4,
   "metadata": {},
   "outputs": [
    {
     "name": "stdout",
     "output_type": "stream",
     "text": [
      "4x + 2y + z = 4\n",
      "x + 3y = 12\n",
      "5y + 4z = -3\n",
      "\n",
      "x =  0.47\n",
      "y =  3.84\n",
      "z =  -5.56\n"
     ]
    }
   ],
   "source": [
    "#3\n",
    "print( \"\"\"4x + 2y + z = 4\n",
    "x + 3y = 12\n",
    "5y + 4z = -3\\n\"\"\")\n",
    "X = np.array([[4,2,1],[1,3,0],[0,5,4]])\n",
    "Y = np.array([4,12,-3])\n",
    "print(\"x = \",round(np.linalg.solve(X,Y)[0],2))\n",
    "print(\"y = \",round(np.linalg.solve(X,Y)[1],2))\n",
    "print(\"z = \",round(np.linalg.solve(X,Y)[2],2))"
   ]
  },
  {
   "cell_type": "code",
   "execution_count": 5,
   "metadata": {},
   "outputs": [],
   "source": [
    "#4\n",
    "users_stats = np.array(\n",
    "    [\n",
    "        [0, 1, 2, 0, 0, 0],\n",
    "        [1, 1, 2, 1, 0, 0],\n",
    "        [2, 0, 1, 0, 0, 0],\n",
    "        [1, 1, 2, 1, 0, 1],\n",
    "        [0, 0, 1, 2, 0, 0],\n",
    "        [0, 0, 0, 0, 0, 5],\n",
    "        [1, 0, 0, 0, 0, 0],\n",
    "        [0, 1, 1, 0, 0, 0],\n",
    "        [0, 0, 0, 1, 1, 3],\n",
    "        [0, 1, 2, 0, 0, 0]\n",
    "    ], \n",
    "    np.int32\n",
    ")"
   ]
  },
  {
   "cell_type": "code",
   "execution_count": 6,
   "metadata": {},
   "outputs": [],
   "source": [
    "next_user_stats = np.array([0, 1, 2, 0, 0, 0])"
   ]
  },
  {
   "cell_type": "code",
   "execution_count": 7,
   "metadata": {},
   "outputs": [
    {
     "name": "stdout",
     "output_type": "stream",
     "text": [
      "Самые похожие пользователи:\n",
      "1\n",
      "10\n"
     ]
    }
   ],
   "source": [
    "cos_simil = np.array([],'float64')\n",
    "for i in users_stats:\n",
    "    cos_simil = np.append(cos_simil,1 - distance.cosine(i,next_user_stats))\n",
    "#cos_simil.argmax()+1\n",
    "print(\"Самые похожие пользователи:\")\n",
    "for el in np.where(cos_simil == cos_simil.max())[0]+1:\n",
    "    print(el)"
   ]
  },
  {
   "cell_type": "code",
   "execution_count": null,
   "metadata": {},
   "outputs": [],
   "source": []
  }
 ],
 "metadata": {
  "kernelspec": {
   "display_name": "Python 3",
   "language": "python",
   "name": "python3"
  },
  "language_info": {
   "codemirror_mode": {
    "name": "ipython",
    "version": 3
   },
   "file_extension": ".py",
   "mimetype": "text/x-python",
   "name": "python",
   "nbconvert_exporter": "python",
   "pygments_lexer": "ipython3",
   "version": "3.8.5"
  }
 },
 "nbformat": 4,
 "nbformat_minor": 4
}
