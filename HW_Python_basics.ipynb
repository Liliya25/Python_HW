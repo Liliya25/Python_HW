{
 "cells": [
  {
   "cell_type": "code",
   "execution_count": 5,
   "metadata": {},
   "outputs": [
    {
     "name": "stdout",
     "output_type": "stream",
     "text": [
      "фывыфв\n",
      "вфывыфвфывыф\n",
      "Фраза 2 длиннее фразы 1\n"
     ]
    }
   ],
   "source": [
    "#1\n",
    "phrase_1 = input()\n",
    "phrase_2 = input()\n",
    "if len(phrase_1) > len(phrase_2):\n",
    "    print(\"Фраза 1 длиннее фразы 2\")\n",
    "elif len(phrase_1) < len(phrase_2):\n",
    "    print(\"Фраза 2 длиннее фразы 1\")\n",
    "else:\n",
    "    print(\"Фразы равной длины\")"
   ]
  },
  {
   "cell_type": "code",
   "execution_count": 6,
   "metadata": {},
   "outputs": [
    {
     "name": "stdout",
     "output_type": "stream",
     "text": [
      "2020\n",
      "Високосный год\n"
     ]
    }
   ],
   "source": [
    "#2\n",
    "year = int(input())\n",
    "if year % 4 == 0 and year % 100 != 0 or year % 4 == 0 and year % 100 == 0 and year % 400 == 0:\n",
    "    print(\"Високосный год\")\n",
    "else:\n",
    "    print(\"Обычный год\")"
   ]
  },
  {
   "cell_type": "code",
   "execution_count": 4,
   "metadata": {},
   "outputs": [
    {
     "name": "stdout",
     "output_type": "stream",
     "text": [
      "Введите день: 24\n",
      "Введите месяц: Октябрь\n",
      "Скорпион\n"
     ]
    }
   ],
   "source": [
    "#3\n",
    "day = int(input(\"Введите день: \"))\n",
    "month = input(\"Введите месяц: \")\n",
    "month_name = [\"Январь\",\"Февраль\",\"Март\",\"Апрель\",\"Май\",\"Июнь\",\"Июль\",\"Август\",\"Сентябрь\",\n",
    "              \"Октябрь\",\"Ноябрь\",\"Декабрь\"]\n",
    "month_number = month_name.index(month) + 1\n",
    "if 21 <= day <= 31 and month_number == 3 or 1 <= day <= 20 and month_number == 4:\n",
    "    print(\"Овен\")\n",
    "elif 21 <= day <= 30 and month_number == 4 or 1 <= day <= 21 and month_number == 5:\n",
    "    print(\"Телец\")\n",
    "elif 22 <= day <= 31 and month_number == 5 or 1 <= day <= 21 and month_number == 6:\n",
    "    print(\"Близнецы\")\n",
    "elif 22 <= day <= 30 and month_number == 6 or 1 <= day <= 22 and month_number == 7:\n",
    "    print(\"Рак\")\n",
    "elif 23 <= day <= 31 and month_number == 7 or 1 <= day <= 23 and month_number == 8:\n",
    "    print(\"Лев\")\n",
    "elif 24 <= day <= 31 and month_number == 8 or 1 <= day <= 23 and month_number == 9:\n",
    "    print(\"Дева\")\n",
    "elif 24 <= day <= 30 and month_number == 9 or 1 <= day <= 23 and month_number == 10:\n",
    "    print(\"Весы\")\n",
    "elif 24 <= day <= 31 and month_number == 10 or 1 <= day <= 22 and month_number == 11:\n",
    "    print(\"Скорпион\")\n",
    "elif 23 <= day <= 30 and month_number == 11 or 1 <= day <= 22 and month_number == 12:\n",
    "    print(\"Стрелец\")\n",
    "elif 23 <= day <= 31 and month_number == 12 or  1 <= day <= 20 and month_number == 1:\n",
    "    print(\"Козерог\")\n",
    "elif 21 <= day <= 31 and month_number == 1 or 1 <= day <= 19 and month_number == 2:\n",
    "    print(\"Водолей\")\n",
    "elif 20 <= day <= 29 and month_number == 2 or 1 <= day <= 20 and month_number == 3:\n",
    "    print(\"Рыбы\")\n",
    "else:\n",
    "    print(\"Неправильно введены данные\")"
   ]
  },
  {
   "cell_type": "code",
   "execution_count": 9,
   "metadata": {},
   "outputs": [
    {
     "name": "stdout",
     "output_type": "stream",
     "text": [
      "Введите ширину: 49\n",
      "Введите длину: 18\n",
      "Введите высоту: 20\n",
      "Коробка № 2\n"
     ]
    }
   ],
   "source": [
    "#4\n",
    "width = float(input(\"Введите ширину: \"))\n",
    "length = float(input(\"Введите длину: \"))\n",
    "height = float(input(\"Введите высоту: \"))\n",
    "\n",
    "if max(width, length, height) < 15:\n",
    "    print(\"Коробка № 1\")\n",
    "elif 50 > max(width, length, height) > 15:\n",
    "    print(\"Коробка № 2\")\n",
    "elif length > 200:\n",
    "    print(\"Упаковка для лыж\")\n",
    "else:\n",
    "    print(\"Стандартная коробка №3\")\n",
    "    "
   ]
  },
  {
   "cell_type": "code",
   "execution_count": 34,
   "metadata": {},
   "outputs": [
    {
     "name": "stdout",
     "output_type": "stream",
     "text": [
      "Введите номер билета: 456654\n",
      "Счастливый билет\n"
     ]
    }
   ],
   "source": [
    "#5\n",
    "ticket_number = int(input(\"Введите номер билета: \"))\n",
    "numb_1 = ticket_number//(10**5)\n",
    "numb_2 = (ticket_number - numb_1*(10**5))//(10**4)\n",
    "numb_3 = (ticket_number - numb_1*(10**5) - numb_2*(10**4))//(10**3)\n",
    "numb_4 = (ticket_number - numb_1*(10**5) - numb_2*(10**4) - numb_3*(10**3))//(10**2)\n",
    "numb_5 = (ticket_number - numb_1*(10**5) - numb_2*(10**4) - numb_3*(10**3) - numb_4*(10**2))//10\n",
    "numb_6 = ticket_number - numb_1*(10**5) - numb_2*(10**4) - numb_3*(10**3) - numb_4*(10**2) - numb_5*10\n",
    "if numb_1 + numb_2 + numb_3 == numb_4 + numb_5 + numb_6:\n",
    "    print(\"Счастливый билет\")\n",
    "else:\n",
    "    print(\"Несчастливый билет\")"
   ]
  },
  {
   "cell_type": "code",
   "execution_count": 2,
   "metadata": {},
   "outputs": [
    {
     "name": "stdout",
     "output_type": "stream",
     "text": [
      "Введите тип фигуры: Прямоугольник\n",
      "Введите длину стороны A: 4\n",
      "Введите длину стороны B: 5\n",
      "Площадь прямоугольника равна  20.0\n"
     ]
    }
   ],
   "source": [
    "#6\n",
    "import math\n",
    "figure = input(\"Введите тип фигуры: \")\n",
    "if figure == \"Круг\":\n",
    "    print(\"Площадь круга равна \", math.pi*float(input(\"Введите радиус круга: \"))**2)\n",
    "elif figure == \"Треугольник\":\n",
    "    a = float(input(\"Введите длину стороны A: \"))\n",
    "    b = float(input(\"Введите длину стороны B: \"))\n",
    "    c = float(input(\"Введите длину стороны C: \"))\n",
    "    p = (a+b+c)/2 #  semiperimeter\n",
    "    print(\"Площадь треугольника равна \", math.sqrt(p*(p-a)*(p-b)*(p-c)))\n",
    "elif figure == \"Прямоугольник\":\n",
    "    print(\"Площадь прямоугольника равна \", float(input(\"Введите длину стороны A: \"))*float(input(\"Введите длину стороны B: \")))"
   ]
  },
  {
   "cell_type": "code",
   "execution_count": null,
   "metadata": {},
   "outputs": [],
   "source": []
  }
 ],
 "metadata": {
  "kernelspec": {
   "display_name": "Python 3",
   "language": "python",
   "name": "python3"
  },
  "language_info": {
   "codemirror_mode": {
    "name": "ipython",
    "version": 3
   },
   "file_extension": ".py",
   "mimetype": "text/x-python",
   "name": "python",
   "nbconvert_exporter": "python",
   "pygments_lexer": "ipython3",
   "version": "3.8.5"
  }
 },
 "nbformat": 4,
 "nbformat_minor": 4
}
