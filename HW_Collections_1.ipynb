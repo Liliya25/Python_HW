{
 "cells": [
  {
   "cell_type": "code",
   "execution_count": 1,
   "metadata": {},
   "outputs": [
    {
     "name": "stdout",
     "output_type": "stream",
     "text": [
      "Введите слово: qwer\n",
      "we\n"
     ]
    }
   ],
   "source": [
    "#1\n",
    "word = input(\"Введите слово: \")\n",
    "n = len(word)\n",
    "if len(word) % 2 == 0:\n",
    "    print(word[int(n/2 - 1): int(n/2 + 1)]) \n",
    "else:\n",
    "    print(word[int(n//2)])"
   ]
  },
  {
   "cell_type": "code",
   "execution_count": 2,
   "metadata": {},
   "outputs": [
    {
     "name": "stdout",
     "output_type": "stream",
     "text": [
      "Введите число: 1\n",
      "Введите число: 4\n",
      "Введите число: 5\n",
      "Введите число: 6\n",
      "Введите число: 0\n",
      "Результат:  16\n"
     ]
    }
   ],
   "source": [
    "#2\n",
    "number = []\n",
    "a = int(input(\"Введите число: \"))\n",
    "number.append(a)\n",
    "while a != 0:\n",
    "    a = int(input(\"Введите число: \"))\n",
    "    number.append(a)\n",
    "print(\"Результат: \",sum(number))\n",
    "\n",
    "\n",
    "    "
   ]
  },
  {
   "cell_type": "code",
   "execution_count": 3,
   "metadata": {},
   "outputs": [
    {
     "name": "stdout",
     "output_type": "stream",
     "text": [
      "Внимание, кто-то может остаться без пары!\n"
     ]
    }
   ],
   "source": [
    "#3\n",
    "boys = ['Peter', 'Alex', 'John', 'Arthur']\n",
    "girls = ['Kate', 'Liza', 'Kira', 'Emma', 'Trisha']\n",
    "if len(boys) != len(girls):\n",
    "    print(\"Внимание, кто-то может остаться без пары!\")\n",
    "else:\n",
    "    print(\"Идеальные пары:\")\n",
    "    for i in range(0,len(boys)):\n",
    "        print (sorted(boys)[i] + \" и \" + sorted(girls)[i])\n"
   ]
  },
  {
   "cell_type": "code",
   "execution_count": 4,
   "metadata": {},
   "outputs": [
    {
     "name": "stdout",
     "output_type": "stream",
     "text": [
      "Средняя температура в странах:\n",
      "Thailand - 23.9 C\n",
      "Germany - 13.8 C\n",
      "Russia - 3.7 C\n",
      "Polan - 12.0 C\n"
     ]
    }
   ],
   "source": [
    "countries_temperature = [\n",
    "['Thailand', [75.2, 77, 78.8, 73.4, 68, 75.2, 77]],\n",
    "['Germany', [57.2, 55.4, 59, 59, 53.6]],\n",
    "['Russia', [35.6, 37.4, 39.2, 41, 42.8, 39.2, 35.6]],\n",
    "['Polan', [50, 50, 53.6, 57.2, 55.4, 55.4]]\n",
    "]\n",
    "countries = []\n",
    "tempretures = []\n",
    "print(\"Средняя температура в странах:\")\n",
    "for i in range(0,len(countries_temperature)):\n",
    "    countries.append(countries_temperature[i][0])\n",
    "    tempretures.append(sum(countries_temperature[i][1])/len(countries_temperature[i][1]))\n",
    "for i in range(0,len(tempretures)):\n",
    "    tempretures[i] = round(5*((tempretures[i])-32)/9,1)\n",
    "    \n",
    "    print(countries[i] + \" - \" + str(tempretures[i]) + \" C\")"
   ]
  },
  {
   "cell_type": "code",
   "execution_count": 5,
   "metadata": {},
   "outputs": [
    {
     "name": "stdout",
     "output_type": "stream",
     "text": [
      "23.25\n"
     ]
    }
   ],
   "source": [
    "#5\n",
    "stream = [\n",
    "'2018-01-01,user1,3',\n",
    "'2018-01-07,user1,4',\n",
    "'2018-03-29,user1,1',\n",
    "'2018-04-04,user1,13',\n",
    "'2018-01-05,user2,7',\n",
    "'2018-06-14,user3,4',\n",
    "'2018-07-02,user3,10',\n",
    "'2018-03-21,user4,19',\n",
    "'2018-03-22,user4,4',\n",
    "'2018-04-22,user4,8',\n",
    "'2018-05-03,user4,9',\n",
    "'2018-05-11,user4,11',\n",
    "]\n",
    "users = []\n",
    "views = 0\n",
    "for log in stream:\n",
    "    views += int(log.split(',')[2])\n",
    "    if log.split(',')[1] not in users:\n",
    "        users.append(log.split(',')[1])\n",
    "print((round(views/len(users),2)))"
   ]
  },
  {
   "cell_type": "code",
   "execution_count": 2,
   "metadata": {},
   "outputs": [
    {
     "name": "stdout",
     "output_type": "stream",
     "text": [
      "Введите числа: 4 5 6 2 5 5 \n",
      "5\n"
     ]
    }
   ],
   "source": [
    "#6\n",
    "numbers = input(\"Введите числа: \").split(\" \")\n",
    "duplicates = []\n",
    "for number in numbers:\n",
    "    if numbers.count(number) > 1 and number not in duplicates:\n",
    "        duplicates.append(number)\n",
    "if len(duplicates) > 0:\n",
    "    print( \" \".join(duplicates))\n",
    "else:\n",
    "    print(\"Все значения уникальны\")\n",
    "\n",
    "        "
   ]
  },
  {
   "cell_type": "code",
   "execution_count": null,
   "metadata": {},
   "outputs": [],
   "source": []
  }
 ],
 "metadata": {
  "kernelspec": {
   "display_name": "Python 3",
   "language": "python",
   "name": "python3"
  },
  "language_info": {
   "codemirror_mode": {
    "name": "ipython",
    "version": 3
   },
   "file_extension": ".py",
   "mimetype": "text/x-python",
   "name": "python",
   "nbconvert_exporter": "python",
   "pygments_lexer": "ipython3",
   "version": "3.8.5"
  }
 },
 "nbformat": 4,
 "nbformat_minor": 4
}
